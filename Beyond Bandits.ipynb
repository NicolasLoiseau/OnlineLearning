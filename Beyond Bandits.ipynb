{
 "cells": [
  {
   "cell_type": "markdown",
   "metadata": {},
   "source": [
    "**Online Learning with Feedback Graphs: Beyond Bandits**\n",
    "\n",
    "*Noga Alon, Nicolò Cesa-Bianchi, Ofer Dekel, Tomer Koren*"
   ]
  },
  {
   "cell_type": "code",
   "execution_count": 1,
   "metadata": {},
   "outputs": [],
   "source": [
    "import numpy as np\n",
    "import networkx as nx\n",
    "import matplotlib.pyplot as plt"
   ]
  },
  {
   "cell_type": "code",
   "execution_count": 2,
   "metadata": {},
   "outputs": [],
   "source": [
    "class graph(object):\n",
    "    \n",
    "    def __init__(self, n_states):\n",
    "        self.n_states = n_states\n",
    "        self.neighbors = set()\n",
    "        self.loss_p = np.random.uniform(0, 1, self.n_states) # np.ones(self.n_states)*0.5\n",
    "        self.loss = None\n",
    "        self.min_loss = None\n",
    "        self.n_out = {i: set() for i in range(self.n_states)}\n",
    "        self.n_in = {i: set() for i in range(self.n_states)}\n",
    "        self.delta = None\n",
    "        \n",
    "    def add(self, i, j):\n",
    "        self.neighbors.add((i, j))\n",
    "        self.n_out[i].add(j)\n",
    "        self.n_in[j].add(i)\n",
    "        \n",
    "    def show(self, labels=None, graph_layout='shell',\n",
    "               node_size=1600, node_color='blue', node_alpha=0.3,\n",
    "               node_text_size=12,\n",
    "               edge_color='blue', edge_alpha=0.3, edge_tickness=1,\n",
    "               edge_text_pos=0.3,\n",
    "               text_font='sans-serif'):\n",
    "\n",
    "        # create networkx graph\n",
    "        G=nx.Graph()\n",
    "        \n",
    "        graph = list(self.neighbors)\n",
    "        \n",
    "        # add edges\n",
    "        for edge in graph:\n",
    "            G.add_edge(edge[0], edge[1])\n",
    "\n",
    "        # these are different layouts for the network you may try\n",
    "        # shell seems to work best\n",
    "        if graph_layout == 'spring':\n",
    "            graph_pos=nx.spring_layout(G)\n",
    "        elif graph_layout == 'spectral':\n",
    "            graph_pos=nx.spectral_layout(G)\n",
    "        elif graph_layout == 'random':\n",
    "            graph_pos=nx.random_layout(G)\n",
    "        else:\n",
    "            graph_pos=nx.shell_layout(G)\n",
    "\n",
    "        # draw graph\n",
    "        nx.draw_networkx_nodes(G,graph_pos,node_size=node_size, \n",
    "                               alpha=node_alpha, node_color=node_color)\n",
    "        nx.draw_networkx_edges(G,graph_pos,width=edge_tickness,\n",
    "                               alpha=edge_alpha,edge_color=edge_color)\n",
    "        nx.draw_networkx_labels(G, graph_pos,font_size=node_text_size,\n",
    "                                font_family=text_font)\n",
    "\n",
    "        if labels is None:\n",
    "            labels = range(len(graph))\n",
    "\n",
    "        #edge_labels = dict(zip(graph, labels))\n",
    "        #nx.draw_networkx_edge_labels(G, graph_pos, edge_labels=edge_labels, \n",
    "        #                             label_pos=edge_text_pos)\n",
    "\n",
    "        # show graph\n",
    "        plt.show()\n",
    "        \n",
    "    def get_loss(self, i, t):\n",
    "        return self.loss[i, t]\n",
    "    \n",
    "    def generate_loss(self, n_iter):\n",
    "        loss = []\n",
    "        for i in range(self.n_states):\n",
    "            loss.append(np.random.binomial(1, self.loss_p[i], n_iter))\n",
    "        self.loss = np.vstack(loss)\n",
    "    \n",
    "    def compute_min_loss(self, n_iter):\n",
    "        min_loss = []\n",
    "        for t in range(n_iter):\n",
    "            min_loss.append(np.min(np.sum(self.loss[:, :t+1], axis=1)))\n",
    "        self.min_loss = np.array(min_loss)"
   ]
  },
  {
   "cell_type": "code",
   "execution_count": 3,
   "metadata": {},
   "outputs": [],
   "source": [
    "def exp3(graph, learn_rate, gamma, n_iter=1000, exploration_set=None):\n",
    "    graph.generate_loss(n_iter)\n",
    "    graph.compute_min_loss(n_iter)\n",
    "    loss = []\n",
    "    loss_estimator = np.zeros(graph.n_states)\n",
    "    q = np.ones(graph.n_states) / graph.n_states\n",
    "    if exploration_set is None:\n",
    "        u = np.ones(graph.n_states) / graph.n_states\n",
    "    else:\n",
    "        u = np.zeros(graph.n_states)\n",
    "        for i in exploration_set:\n",
    "            u[i] = 1 / len(u)\n",
    "    for i in range(n_iter):\n",
    "        p = (1 - gamma) * q + gamma * u\n",
    "        p = p / np.linalg.norm(p, ord=1)\n",
    "        choice = np.random.choice(graph.n_states, 1, p=p)[0]\n",
    "        loss.append(graph.get_loss(choice, i))\n",
    "        loss_estimator = np.array([graph.get_loss(k, i) / np.sum(p[list(graph.n_in[k])]) if k in graph.n_out[choice] else 0 for k in range(graph.n_states)])\n",
    "        q = q * np.exp(-learn_rate * loss_estimator)\n",
    "        q = q / np.linalg.norm(q, ord=1)\n",
    "    regret = np.cumsum(np.array(loss)) - graph.min_loss\n",
    "    return q, regret"
   ]
  },
  {
   "cell_type": "code",
   "execution_count": 4,
   "metadata": {},
   "outputs": [],
   "source": [
    "n_states = 5\n",
    "\n",
    "a = graph(n_states)\n",
    "for i in range(n_states):\n",
    "    for j in range(n_states):\n",
    "        a.add(i,j)\n",
    "a_dom = [0]\n",
    "\n",
    "b = graph(n_states)\n",
    "for i in range(n_states):\n",
    "    b.add(i,i)\n",
    "b_dom = [i for i in range(n_states)]\n",
    "b.delta = n_states\n",
    "\n",
    "c = graph(n_states)\n",
    "for i in range(n_states):\n",
    "    for j in range(n_states):\n",
    "        if i != j:\n",
    "            c.add(i,j)\n",
    "c_dom = [0, 1]\n",
    "\n",
    "e = graph(n_states)\n",
    "for i in range(n_states):\n",
    "    e.add(0, i)\n",
    "e_dom = [0]\n",
    "e.delta = 1"
   ]
  },
  {
   "cell_type": "code",
   "execution_count": 121,
   "metadata": {},
   "outputs": [
    {
     "data": {
      "image/png": "[encoded data removed]",
      "text/plain": [
       "<matplotlib.figure.Figure at 0x10972b6d8>"
      ]
     },
     "metadata": {},
     "output_type": "display_data"
    }
   ],
   "source": [
    "e.show()"
   ]
  },
  {
   "cell_type": "markdown",
   "metadata": {},
   "source": [
    "### Regret sur différents graphs sans l'exploration set"
   ]
  },
  {
   "cell_type": "code",
   "execution_count": 18,
   "metadata": {},
   "outputs": [
    {
     "data": {
      "image/png": "[encoded data removed]",
      "text/plain": [
       "<matplotlib.figure.Figure at 0x108842d68>"
      ]
     },
     "metadata": {},
     "output_type": "display_data"
    }
   ],
   "source": [
    "n_iter = 1000\n",
    "\n",
    "graphs = [a, b, c, e]\n",
    "names = ['a', 'b', 'c', 'e']\n",
    "regrets = []\n",
    "\n",
    "for graph_ in graphs:\n",
    "    q, regret = exp3(graph_, learn_rate=0.2, gamma=0., n_iter=n_iter)\n",
    "    regrets.append(regret)\n",
    "\n",
    "x = np.arange(n_iter)\n",
    "plt.plot(x, regrets[0], x, regrets[1], x, regrets[2], x, regrets[3])\n",
    "plt.legend(names)\n",
    "plt.xlabel('iterations')\n",
    "plt.ylabel('Regret')\n",
    "plt.show()"
   ]
  },
  {
   "cell_type": "markdown",
   "metadata": {},
   "source": [
    "### Impact de l'exploration set"
   ]
  },
  {
   "cell_type": "code",
   "execution_count": 24,
   "metadata": {},
   "outputs": [
    {
     "data": {
      "image/png": "[encoded data removed]",
      "text/plain": [
       "<matplotlib.figure.Figure at 0x108ad9240>"
      ]
     },
     "metadata": {},
     "output_type": "display_data"
    }
   ],
   "source": [
    "n_iter = 1000\n",
    "\n",
    "gamma = min(1/2, 1/(b.n_states * n_iter)**2)\n",
    "learn_rate = gamma / 2\n",
    "\n",
    "q, regret1 = exp3(b, learn_rate=0.1, gamma=0., n_iter=n_iter)\n",
    "q, regret2 = exp3(b, learn_rate=learn_rate, gamma=gamma, n_iter=n_iter)\n",
    "\n",
    "x = np.arange(n_iter)\n",
    "plt.plot(x, regret1, x, regret2)\n",
    "plt.legend(['EXP3', 'EXP3-G'])\n",
    "plt.xlabel('iterations')\n",
    "plt.ylabel('Regret')\n",
    "plt.show()"
   ]
  },
  {
   "cell_type": "markdown",
   "metadata": {},
   "source": [
    "### Comportement asymptotique du regret pour un weakly observable graph"
   ]
  },
  {
   "cell_type": "code",
   "execution_count": 103,
   "metadata": {},
   "outputs": [],
   "source": [
    "def exp3_doubling_trick(graph, learn_rate, gamma, n_iter=1000, exploration_set=None):\n",
    "    graph.generate_loss(n_iter)\n",
    "    graph.compute_min_loss(n_iter)\n",
    "    loss = []\n",
    "    loss_estimator = np.zeros(graph.n_states)\n",
    "    q = np.ones(graph.n_states) / graph.n_states\n",
    "    if exploration_set is None:\n",
    "        u = np.ones(graph.n_states) / graph.n_states\n",
    "    else:\n",
    "        u = np.zeros(graph.n_states)\n",
    "        for i in exploration_set:\n",
    "            u[i] = 1 / len(u)\n",
    "    for i in range(n_iter):\n",
    "        if (i & (i - 1)) == 0 and i > graph.n_states**3 * np.log(graph.n_states) / graph.delta**2:\n",
    "            gamma = min(1/2, (graph.delta * np.log(graph.n_states) / i)**(1/3))\n",
    "            learn_rate = gamma**2 / graph.delta\n",
    "        p = (1 - gamma) * q + gamma * u\n",
    "        p = p / np.linalg.norm(p, ord=1)\n",
    "        choice = np.random.choice(graph.n_states, 1, p=p)[0]\n",
    "        loss.append(graph.get_loss(choice, i))\n",
    "        loss_estimator = np.array([graph.get_loss(k, i) / np.sum(p[list(graph.n_in[k])]) if k in graph.n_out[choice] else 0 for k in range(graph.n_states)])\n",
    "        q = q * np.exp(-learn_rate * loss_estimator)\n",
    "        q = q / np.linalg.norm(q, ord=1)\n",
    "    regret = np.cumsum(np.array(loss)) - graph.min_loss\n",
    "    return q, regret"
   ]
  },
  {
   "cell_type": "code",
   "execution_count": 105,
   "metadata": {},
   "outputs": [
    {
     "data": {
      "image/png": "[encoded data removed]",
      "text/plain": [
       "<matplotlib.figure.Figure at 0x108db47b8>"
      ]
     },
     "metadata": {},
     "output_type": "display_data"
    }
   ],
   "source": [
    "n_iter = 30000\n",
    "\n",
    "q, regret = exp3_doubling_trick(b, learn_rate=0.1, gamma=0.5, n_iter=n_iter, exploration_set=b_dom)\n",
    "\n",
    "x = np.arange(n_iter)\n",
    "t = np.array([i**(2/3) for i in range(1, n_iter+1)])\n",
    "plt.plot(x, regret/t)\n",
    "plt.xlabel('iterations')\n",
    "plt.ylabel('Regret / sqrt(t)')\n",
    "plt.show()"
   ]
  }
 ],
 "metadata": {
  "kernelspec": {
   "display_name": "Python 3",
   "language": "python",
   "name": "python3"
  },
  "language_info": {
   "codemirror_mode": {
    "name": "ipython",
    "version": 3
   },
   "file_extension": ".py",
   "mimetype": "text/x-python",
   "name": "python",
   "nbconvert_exporter": "python",
   "pygments_lexer": "ipython3",
   "version": "3.6.1"
  }
 },
 "nbformat": 4,
 "nbformat_minor": 2
}
